{
  "nbformat": 4,
  "nbformat_minor": 0,
  "metadata": {
    "colab": {
      "name": "clearnandtraing-pythonfunctions-noahgift.ipynb",
      "provenance": [],
      "toc_visible": true,
      "authorship_tag": "ABX9TyOzL70BclqlpUly0oSQHBso",
      "include_colab_link": true
    },
    "kernelspec": {
      "name": "python3",
      "display_name": "Python 3"
    },
    "language_info": {
      "name": "python"
    }
  },
  "cells": [
    {
      "cell_type": "markdown",
      "metadata": {
        "id": "view-in-github",
        "colab_type": "text"
      },
      "source": [
        "<a href=\"https://colab.research.google.com/github/clearnandtrain/python-functions-with-noahgift/blob/main/clearnandtraing_pythonfunctions_noahgift.ipynb\" target=\"_parent\"><img src=\"https://colab.research.google.com/assets/colab-badge.svg\" alt=\"Open In Colab\"/></a>"
      ]
    },
    {
      "cell_type": "markdown",
      "metadata": {
        "id": "hHNYhu5DbWYU"
      },
      "source": [
        "# Lesson One: Statements"
      ]
    },
    {
      "cell_type": "markdown",
      "metadata": {
        "id": "xU7k8Xx7aswL"
      },
      "source": [
        "## Hello World and Print Statements"
      ]
    },
    {
      "cell_type": "code",
      "metadata": {
        "id": "g7Vbu1kaaxA1",
        "colab": {
          "base_uri": "https://localhost:8080/"
        },
        "outputId": "afdffbd3-da23-4203-cb9f-7f530b1a1277"
      },
      "source": [
        "print(\"Hello World\")"
      ],
      "execution_count": null,
      "outputs": [
        {
          "output_type": "stream",
          "name": "stdout",
          "text": [
            "Hello World\n"
          ]
        }
      ]
    },
    {
      "cell_type": "code",
      "metadata": {
        "id": "LoX_q6OicEf0",
        "colab": {
          "base_uri": "https://localhost:8080/"
        },
        "outputId": "64a92bab-ed67-4993-e146-c7cb62a5fbf7"
      },
      "source": [
        "print(f'This is a good fruit to eat in the winter {var}')"
      ],
      "execution_count": null,
      "outputs": [
        {
          "output_type": "stream",
          "name": "stdout",
          "text": [
            "This is a good fruit to eat in the winter Apple\n"
          ]
        }
      ]
    },
    {
      "cell_type": "code",
      "metadata": {
        "id": "KNC41HIYcNKL"
      },
      "source": [
        "num = 100"
      ],
      "execution_count": null,
      "outputs": []
    },
    {
      "cell_type": "code",
      "metadata": {
        "id": "j2szEYEvblZC"
      },
      "source": [
        "var = \"Apple\""
      ],
      "execution_count": null,
      "outputs": []
    },
    {
      "cell_type": "code",
      "metadata": {
        "id": "IDeWDoMdcaDt",
        "colab": {
          "base_uri": "https://localhost:8080/"
        },
        "outputId": "5ecd536e-2d80-4028-da3a-8ff8c7a4fd6f"
      },
      "source": [
        "type(num)"
      ],
      "execution_count": null,
      "outputs": [
        {
          "output_type": "execute_result",
          "data": {
            "text/plain": [
              "int"
            ]
          },
          "metadata": {},
          "execution_count": 5
        }
      ]
    },
    {
      "cell_type": "code",
      "metadata": {
        "id": "kFteai0qcfbV",
        "colab": {
          "base_uri": "https://localhost:8080/"
        },
        "outputId": "2ec09b25-da22-4569-8ca9-a286bcf276a9"
      },
      "source": [
        "print(f'The amount of money I like in my wallet is {num} dollars')"
      ],
      "execution_count": null,
      "outputs": [
        {
          "output_type": "stream",
          "name": "stdout",
          "text": [
            "The amount of money I like in my wallet is 100 dollars\n"
          ]
        }
      ]
    },
    {
      "cell_type": "markdown",
      "metadata": {
        "id": "0b9nu9-7etUz"
      },
      "source": [
        "## Data Structures"
      ]
    },
    {
      "cell_type": "markdown",
      "metadata": {
        "id": "LrTsLZtGe9Ha"
      },
      "source": [
        "### Variables"
      ]
    },
    {
      "cell_type": "code",
      "metadata": {
        "id": "Iv1QsTNyfAGg"
      },
      "source": [
        "var = \"Apples\""
      ],
      "execution_count": null,
      "outputs": []
    },
    {
      "cell_type": "code",
      "metadata": {
        "id": "BKkOvIlYgHI6"
      },
      "source": [
        "num = 100"
      ],
      "execution_count": null,
      "outputs": []
    },
    {
      "cell_type": "markdown",
      "metadata": {
        "id": "BNElDJfzgJDa"
      },
      "source": [
        "### Lists"
      ]
    },
    {
      "cell_type": "code",
      "metadata": {
        "id": "S8iquDXBgS8N"
      },
      "source": [
        "mylist = []"
      ],
      "execution_count": null,
      "outputs": []
    },
    {
      "cell_type": "code",
      "metadata": {
        "id": "rZzuaRlXgZqi"
      },
      "source": [
        "mylist.append(1)  # adding an element to the mylist"
      ],
      "execution_count": null,
      "outputs": []
    },
    {
      "cell_type": "code",
      "metadata": {
        "id": "n8VbJqgJgdpL",
        "colab": {
          "base_uri": "https://localhost:8080/"
        },
        "outputId": "c91eda69-6499-460f-d754-e66b11f6ab64"
      },
      "source": [
        "mylist"
      ],
      "execution_count": null,
      "outputs": [
        {
          "output_type": "execute_result",
          "data": {
            "text/plain": [
              "[1]"
            ]
          },
          "metadata": {},
          "execution_count": 37
        }
      ]
    },
    {
      "cell_type": "code",
      "metadata": {
        "id": "FKpH2IErgeqb",
        "colab": {
          "base_uri": "https://localhost:8080/",
          "height": 164
        },
        "outputId": "a0aa71d8-beca-473f-9840-ef08760addf7"
      },
      "source": [
        "mylist.append(2,3)   # can't add to elements at the same time"
      ],
      "execution_count": null,
      "outputs": [
        {
          "output_type": "error",
          "ename": "TypeError",
          "evalue": "ignored",
          "traceback": [
            "\u001b[0;31m---------------------------------------------------------------------------\u001b[0m",
            "\u001b[0;31mTypeError\u001b[0m                                 Traceback (most recent call last)",
            "\u001b[0;32m<ipython-input-38-e6413157f5d5>\u001b[0m in \u001b[0;36m<module>\u001b[0;34m()\u001b[0m\n\u001b[0;32m----> 1\u001b[0;31m \u001b[0mmylist\u001b[0m\u001b[0;34m.\u001b[0m\u001b[0mappend\u001b[0m\u001b[0;34m(\u001b[0m\u001b[0;36m2\u001b[0m\u001b[0;34m,\u001b[0m\u001b[0;36m3\u001b[0m\u001b[0;34m)\u001b[0m   \u001b[0;31m# can't add to elements at the same time\u001b[0m\u001b[0;34m\u001b[0m\u001b[0;34m\u001b[0m\u001b[0m\n\u001b[0m",
            "\u001b[0;31mTypeError\u001b[0m: append() takes exactly one argument (2 given)"
          ]
        }
      ]
    },
    {
      "cell_type": "code",
      "metadata": {
        "id": "MZh6uIT9gjST"
      },
      "source": [
        "mylist.append(2)"
      ],
      "execution_count": null,
      "outputs": []
    },
    {
      "cell_type": "code",
      "metadata": {
        "id": "SP4BujPdgm_j"
      },
      "source": [
        "mylist"
      ],
      "execution_count": null,
      "outputs": []
    },
    {
      "cell_type": "code",
      "metadata": {
        "id": "-_8DktGcgn8T"
      },
      "source": [
        "len(mylist)"
      ],
      "execution_count": null,
      "outputs": []
    },
    {
      "cell_type": "code",
      "metadata": {
        "id": "LBFirOSDgsGr"
      },
      "source": [
        "print(f'This is the contents of mylist: {mylist}')"
      ],
      "execution_count": null,
      "outputs": []
    },
    {
      "cell_type": "markdown",
      "metadata": {
        "id": "TOz5hNgFnife"
      },
      "source": [
        "### List Comprehension"
      ]
    },
    {
      "cell_type": "code",
      "metadata": {
        "id": "Znng7cb4nqB3"
      },
      "source": [
        "vegan_recipes = ['bfsandwich', 'lveggiesandbeans', 'dveggiesandrice', 'greensandbeans']\n",
        "new_phrases = [\"\".join(f'These are my go to vegan meals {vegan_recipe}') for vegan_recipe in vegan_recipes]  # a way of doing a very fast performance loop, a way of enhancing a loop"
      ],
      "execution_count": null,
      "outputs": []
    },
    {
      "cell_type": "code",
      "metadata": {
        "id": "sZxOSDyNpT2Z"
      },
      "source": [
        "new_phrases"
      ],
      "execution_count": null,
      "outputs": []
    },
    {
      "cell_type": "code",
      "metadata": {
        "id": "E8owLvfJptEB"
      },
      "source": [
        "type(new_phrases)"
      ],
      "execution_count": null,
      "outputs": []
    },
    {
      "cell_type": "markdown",
      "metadata": {
        "id": "QiGiV9cxg5wm"
      },
      "source": [
        "### Dictionary"
      ]
    },
    {
      "cell_type": "code",
      "metadata": {
        "id": "OjE1Gkt1hyiY"
      },
      "source": [
        "mydict = {}  # empty dictionary"
      ],
      "execution_count": null,
      "outputs": []
    },
    {
      "cell_type": "code",
      "metadata": {
        "id": "-TNa_T7Ph1aA"
      },
      "source": [
        "mydict['One'] = 1  # adding key value pair to mydict"
      ],
      "execution_count": null,
      "outputs": []
    },
    {
      "cell_type": "code",
      "metadata": {
        "id": "xBRPA4j5h6Bh"
      },
      "source": [
        "mydict"
      ],
      "execution_count": null,
      "outputs": []
    },
    {
      "cell_type": "code",
      "metadata": {
        "id": "LeewguWJiP_b"
      },
      "source": [
        "mydict['Two'] = 2   # adding another key value pair to mydict"
      ],
      "execution_count": null,
      "outputs": []
    },
    {
      "cell_type": "code",
      "metadata": {
        "id": "tASPIHKEibZb"
      },
      "source": [
        "mydict"
      ],
      "execution_count": null,
      "outputs": []
    },
    {
      "cell_type": "code",
      "metadata": {
        "id": "Hr5iidpUics8"
      },
      "source": [
        "mydict.keys()  # to list the keys, don't forget ()"
      ],
      "execution_count": null,
      "outputs": []
    },
    {
      "cell_type": "markdown",
      "metadata": {
        "id": "5C-up_q3inI8"
      },
      "source": [
        "## Control Structure"
      ]
    },
    {
      "cell_type": "markdown",
      "metadata": {
        "id": "8XGjvSFCjOmc"
      },
      "source": [
        "### For Loop and If statement with break"
      ]
    },
    {
      "cell_type": "code",
      "metadata": {
        "id": "oONjDP7NjS4-",
        "colab": {
          "base_uri": "https://localhost:8080/"
        },
        "outputId": "0a52c94b-46b0-4c6e-a829-5c299bab6c18"
      },
      "source": [
        "fruits = ['apple', 'pear', 'avacado']\n",
        "for fruit in fruits:\n",
        "  print(f'A fruit that I enjoy often is {fruit}')"
      ],
      "execution_count": null,
      "outputs": [
        {
          "output_type": "stream",
          "name": "stdout",
          "text": [
            "A fruit that I enjoy often is apple\n",
            "A fruit that I enjoy often is pear\n",
            "A fruit that I enjoy often is avacado\n"
          ]
        }
      ]
    },
    {
      "cell_type": "code",
      "metadata": {
        "id": "xnrgf2ktjm7H",
        "colab": {
          "base_uri": "https://localhost:8080/"
        },
        "outputId": "a0c81336-e019-4730-cf00-5848e341dade"
      },
      "source": [
        "for fruit in fruits:\n",
        "  if fruit == 'apple':\n",
        "    print(f'I live this fruit {fruit}')\n",
        "    break"
      ],
      "execution_count": null,
      "outputs": [
        {
          "output_type": "stream",
          "name": "stdout",
          "text": [
            "I live this fruit apple\n"
          ]
        }
      ]
    },
    {
      "cell_type": "markdown",
      "metadata": {
        "id": "2An5JSZqrEtY"
      },
      "source": [
        "# Lesson Two : Functions"
      ]
    },
    {
      "cell_type": "markdown",
      "metadata": {
        "id": "knERSQt3wIkt"
      },
      "source": [
        "This is an exploration of fuctions."
      ]
    },
    {
      "cell_type": "markdown",
      "metadata": {
        "id": "0p351unGwCUV"
      },
      "source": [
        "https://user-images.githubusercontent.com/89202857/132524120-bddb44a2-098e-492a-8c16-d119556a71d8.png"
      ]
    },
    {
      "cell_type": "markdown",
      "metadata": {
        "id": "Cpw5pA0lvoZf"
      },
      "source": [
        "### Getting Started with Functions"
      ]
    },
    {
      "cell_type": "code",
      "metadata": {
        "id": "XLxbUr6syWaz"
      },
      "source": [
        "def myfunction():pass  # this function does nothing, used for example for syntax"
      ],
      "execution_count": 42,
      "outputs": []
    },
    {
      "cell_type": "code",
      "metadata": {
        "colab": {
          "base_uri": "https://localhost:8080/"
        },
        "id": "_t2-9oqYyelE",
        "outputId": "81986cb2-a58d-4880-8d84-05a879662e00"
      },
      "source": [
        "type(myfunction)"
      ],
      "execution_count": 41,
      "outputs": [
        {
          "output_type": "execute_result",
          "data": {
            "text/plain": [
              "function"
            ]
          },
          "metadata": {},
          "execution_count": 41
        }
      ]
    },
    {
      "cell_type": "code",
      "metadata": {
        "id": "uXofO80vykAj"
      },
      "source": [
        "def accept(x):\n",
        "  print(f'This was passed in: {x}') # function that takes input"
      ],
      "execution_count": 43,
      "outputs": []
    },
    {
      "cell_type": "code",
      "metadata": {
        "colab": {
          "base_uri": "https://localhost:8080/"
        },
        "id": "Kvm17w0ly5wr",
        "outputId": "d3e1cada-6c32-4712-d1ce-5087f900d191"
      },
      "source": [
        "accept('LaShawn')  # call the function"
      ],
      "execution_count": 45,
      "outputs": [
        {
          "output_type": "stream",
          "name": "stdout",
          "text": [
            "This was passed in: LaShawn\n"
          ]
        }
      ]
    },
    {
      "cell_type": "code",
      "metadata": {
        "id": "j3Shf7A5y-d1"
      },
      "source": [
        ""
      ],
      "execution_count": null,
      "outputs": []
    }
  ]
}