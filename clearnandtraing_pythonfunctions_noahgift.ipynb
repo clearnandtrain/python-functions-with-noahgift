{
  "nbformat": 4,
  "nbformat_minor": 0,
  "metadata": {
    "colab": {
      "name": "clearnandtraing-pythonfunctions-noahgift.ipynb",
      "provenance": [],
      "toc_visible": true,
      "authorship_tag": "ABX9TyMYG/IjccF6ihC1h6zSfzrQ",
      "include_colab_link": true
    },
    "kernelspec": {
      "name": "python3",
      "display_name": "Python 3"
    },
    "language_info": {
      "name": "python"
    }
  },
  "cells": [
    {
      "cell_type": "markdown",
      "metadata": {
        "id": "view-in-github",
        "colab_type": "text"
      },
      "source": [
        "<a href=\"https://colab.research.google.com/github/clearnandtrain/python-functions-with-noahgift/blob/main/clearnandtraing_pythonfunctions_noahgift.ipynb\" target=\"_parent\"><img src=\"https://colab.research.google.com/assets/colab-badge.svg\" alt=\"Open In Colab\"/></a>"
      ]
    },
    {
      "cell_type": "markdown",
      "metadata": {
        "id": "hHNYhu5DbWYU"
      },
      "source": [
        "# Lesson One: Statements"
      ]
    },
    {
      "cell_type": "markdown",
      "metadata": {
        "id": "xU7k8Xx7aswL"
      },
      "source": [
        "## Hello World and Print Statements"
      ]
    },
    {
      "cell_type": "code",
      "metadata": {
        "id": "g7Vbu1kaaxA1",
        "colab": {
          "base_uri": "https://localhost:8080/"
        },
        "outputId": "afdffbd3-da23-4203-cb9f-7f530b1a1277"
      },
      "source": [
        "print(\"Hello World\")"
      ],
      "execution_count": null,
      "outputs": [
        {
          "output_type": "stream",
          "name": "stdout",
          "text": [
            "Hello World\n"
          ]
        }
      ]
    },
    {
      "cell_type": "code",
      "metadata": {
        "id": "LoX_q6OicEf0",
        "colab": {
          "base_uri": "https://localhost:8080/"
        },
        "outputId": "64a92bab-ed67-4993-e146-c7cb62a5fbf7"
      },
      "source": [
        "print(f'This is a good fruit to eat in the winter {var}')"
      ],
      "execution_count": null,
      "outputs": [
        {
          "output_type": "stream",
          "name": "stdout",
          "text": [
            "This is a good fruit to eat in the winter Apple\n"
          ]
        }
      ]
    },
    {
      "cell_type": "code",
      "metadata": {
        "id": "KNC41HIYcNKL"
      },
      "source": [
        "num = 100"
      ],
      "execution_count": null,
      "outputs": []
    },
    {
      "cell_type": "code",
      "metadata": {
        "id": "j2szEYEvblZC"
      },
      "source": [
        "var = \"Apple\""
      ],
      "execution_count": null,
      "outputs": []
    },
    {
      "cell_type": "code",
      "metadata": {
        "id": "IDeWDoMdcaDt",
        "colab": {
          "base_uri": "https://localhost:8080/"
        },
        "outputId": "5ecd536e-2d80-4028-da3a-8ff8c7a4fd6f"
      },
      "source": [
        "type(num)"
      ],
      "execution_count": null,
      "outputs": [
        {
          "output_type": "execute_result",
          "data": {
            "text/plain": [
              "int"
            ]
          },
          "metadata": {},
          "execution_count": 5
        }
      ]
    },
    {
      "cell_type": "code",
      "metadata": {
        "id": "kFteai0qcfbV",
        "colab": {
          "base_uri": "https://localhost:8080/"
        },
        "outputId": "2ec09b25-da22-4569-8ca9-a286bcf276a9"
      },
      "source": [
        "print(f'The amount of money I like in my wallet is {num} dollars')"
      ],
      "execution_count": null,
      "outputs": [
        {
          "output_type": "stream",
          "name": "stdout",
          "text": [
            "The amount of money I like in my wallet is 100 dollars\n"
          ]
        }
      ]
    },
    {
      "cell_type": "markdown",
      "metadata": {
        "id": "0b9nu9-7etUz"
      },
      "source": [
        "## Data Structures"
      ]
    },
    {
      "cell_type": "markdown",
      "metadata": {
        "id": "LrTsLZtGe9Ha"
      },
      "source": [
        "### Variables"
      ]
    },
    {
      "cell_type": "code",
      "metadata": {
        "id": "Iv1QsTNyfAGg"
      },
      "source": [
        "var = \"Apples\""
      ],
      "execution_count": 7,
      "outputs": []
    },
    {
      "cell_type": "code",
      "metadata": {
        "id": "BKkOvIlYgHI6"
      },
      "source": [
        "num = 100"
      ],
      "execution_count": 8,
      "outputs": []
    },
    {
      "cell_type": "markdown",
      "metadata": {
        "id": "BNElDJfzgJDa"
      },
      "source": [
        "### Lists"
      ]
    },
    {
      "cell_type": "code",
      "metadata": {
        "id": "S8iquDXBgS8N"
      },
      "source": [
        "mylist = []"
      ],
      "execution_count": 9,
      "outputs": []
    },
    {
      "cell_type": "code",
      "metadata": {
        "id": "rZzuaRlXgZqi"
      },
      "source": [
        "mylist.append(1)  # adding an element to the mylist"
      ],
      "execution_count": 17,
      "outputs": []
    },
    {
      "cell_type": "code",
      "metadata": {
        "id": "n8VbJqgJgdpL",
        "outputId": "ed62be68-e0cd-40cd-a8fa-550ce4bf545d",
        "colab": {
          "base_uri": "https://localhost:8080/"
        }
      },
      "source": [
        "mylist"
      ],
      "execution_count": 11,
      "outputs": [
        {
          "output_type": "execute_result",
          "data": {
            "text/plain": [
              "[1]"
            ]
          },
          "metadata": {},
          "execution_count": 11
        }
      ]
    },
    {
      "cell_type": "code",
      "metadata": {
        "id": "FKpH2IErgeqb",
        "outputId": "667a2546-a799-4156-f5c0-6cd86c4be0d0",
        "colab": {
          "base_uri": "https://localhost:8080/",
          "height": 164
        }
      },
      "source": [
        "mylist.append(2,3)   # can't add to elements at the same time"
      ],
      "execution_count": 12,
      "outputs": [
        {
          "output_type": "error",
          "ename": "TypeError",
          "evalue": "ignored",
          "traceback": [
            "\u001b[0;31m---------------------------------------------------------------------------\u001b[0m",
            "\u001b[0;31mTypeError\u001b[0m                                 Traceback (most recent call last)",
            "\u001b[0;32m<ipython-input-12-7270430eade7>\u001b[0m in \u001b[0;36m<module>\u001b[0;34m()\u001b[0m\n\u001b[0;32m----> 1\u001b[0;31m \u001b[0mmylist\u001b[0m\u001b[0;34m.\u001b[0m\u001b[0mappend\u001b[0m\u001b[0;34m(\u001b[0m\u001b[0;36m2\u001b[0m\u001b[0;34m,\u001b[0m\u001b[0;36m3\u001b[0m\u001b[0;34m)\u001b[0m\u001b[0;34m\u001b[0m\u001b[0;34m\u001b[0m\u001b[0m\n\u001b[0m",
            "\u001b[0;31mTypeError\u001b[0m: append() takes exactly one argument (2 given)"
          ]
        }
      ]
    },
    {
      "cell_type": "code",
      "metadata": {
        "id": "MZh6uIT9gjST"
      },
      "source": [
        "mylist.append(2)"
      ],
      "execution_count": 13,
      "outputs": []
    },
    {
      "cell_type": "code",
      "metadata": {
        "id": "SP4BujPdgm_j",
        "outputId": "87f608c2-f159-44d5-cf0b-7863161bcb15",
        "colab": {
          "base_uri": "https://localhost:8080/"
        }
      },
      "source": [
        "mylist"
      ],
      "execution_count": 14,
      "outputs": [
        {
          "output_type": "execute_result",
          "data": {
            "text/plain": [
              "[1, 2]"
            ]
          },
          "metadata": {},
          "execution_count": 14
        }
      ]
    },
    {
      "cell_type": "code",
      "metadata": {
        "id": "-_8DktGcgn8T",
        "outputId": "6b00eed5-5104-46e0-8022-5fac4d4951d5",
        "colab": {
          "base_uri": "https://localhost:8080/"
        }
      },
      "source": [
        "len(mylist)"
      ],
      "execution_count": 15,
      "outputs": [
        {
          "output_type": "execute_result",
          "data": {
            "text/plain": [
              "2"
            ]
          },
          "metadata": {},
          "execution_count": 15
        }
      ]
    },
    {
      "cell_type": "code",
      "metadata": {
        "id": "LBFirOSDgsGr",
        "outputId": "1a5a12bd-8df6-4870-fbe1-1b939a3cb7ce",
        "colab": {
          "base_uri": "https://localhost:8080/"
        }
      },
      "source": [
        "print(f'This is the contents of mylist: {mylist}')"
      ],
      "execution_count": 16,
      "outputs": [
        {
          "output_type": "stream",
          "name": "stdout",
          "text": [
            "This is the contents of mylist: [1, 2]\n"
          ]
        }
      ]
    },
    {
      "cell_type": "markdown",
      "metadata": {
        "id": "QiGiV9cxg5wm"
      },
      "source": [
        "### Dictionary"
      ]
    },
    {
      "cell_type": "code",
      "metadata": {
        "id": "OjE1Gkt1hyiY"
      },
      "source": [
        "mydict = {}  # empty dictionary"
      ],
      "execution_count": 18,
      "outputs": []
    },
    {
      "cell_type": "code",
      "metadata": {
        "id": "-TNa_T7Ph1aA"
      },
      "source": [
        "mydict['One'] = 1  # adding key value pair to mydict"
      ],
      "execution_count": 20,
      "outputs": []
    },
    {
      "cell_type": "code",
      "metadata": {
        "id": "xBRPA4j5h6Bh",
        "outputId": "92ba3035-4bf6-4bcc-a205-aa00370d302e",
        "colab": {
          "base_uri": "https://localhost:8080/"
        }
      },
      "source": [
        "mydict"
      ],
      "execution_count": 21,
      "outputs": [
        {
          "output_type": "execute_result",
          "data": {
            "text/plain": [
              "{'One': 1}"
            ]
          },
          "metadata": {},
          "execution_count": 21
        }
      ]
    },
    {
      "cell_type": "code",
      "metadata": {
        "id": "LeewguWJiP_b"
      },
      "source": [
        "mydict['Two'] = 2   # adding another key value pair to mydict"
      ],
      "execution_count": 22,
      "outputs": []
    },
    {
      "cell_type": "code",
      "metadata": {
        "id": "tASPIHKEibZb",
        "outputId": "24520dcb-c87a-4a91-a21d-770eb449d7fe",
        "colab": {
          "base_uri": "https://localhost:8080/"
        }
      },
      "source": [
        "mydict"
      ],
      "execution_count": 23,
      "outputs": [
        {
          "output_type": "execute_result",
          "data": {
            "text/plain": [
              "{'One': 1, 'Two': 2}"
            ]
          },
          "metadata": {},
          "execution_count": 23
        }
      ]
    },
    {
      "cell_type": "code",
      "metadata": {
        "id": "Hr5iidpUics8",
        "outputId": "c111b1c1-8bb3-4ae7-da22-53edfa51dd19",
        "colab": {
          "base_uri": "https://localhost:8080/"
        }
      },
      "source": [
        "mydict.keys()  # to list the keys, don't forget ()"
      ],
      "execution_count": 25,
      "outputs": [
        {
          "output_type": "execute_result",
          "data": {
            "text/plain": [
              "dict_keys(['One', 'Two'])"
            ]
          },
          "metadata": {},
          "execution_count": 25
        }
      ]
    },
    {
      "cell_type": "markdown",
      "metadata": {
        "id": "5C-up_q3inI8"
      },
      "source": [
        "## Control Structure"
      ]
    },
    {
      "cell_type": "markdown",
      "metadata": {
        "id": "8XGjvSFCjOmc"
      },
      "source": [
        "### For Loop and If statement with break"
      ]
    },
    {
      "cell_type": "code",
      "metadata": {
        "id": "oONjDP7NjS4-",
        "outputId": "0a52c94b-46b0-4c6e-a829-5c299bab6c18",
        "colab": {
          "base_uri": "https://localhost:8080/"
        }
      },
      "source": [
        "fruits = ['apple', 'pear', 'avacado']\n",
        "for fruit in fruits:\n",
        "  print(f'A fruit that I enjoy often is {fruit}')"
      ],
      "execution_count": 26,
      "outputs": [
        {
          "output_type": "stream",
          "name": "stdout",
          "text": [
            "A fruit that I enjoy often is apple\n",
            "A fruit that I enjoy often is pear\n",
            "A fruit that I enjoy often is avacado\n"
          ]
        }
      ]
    },
    {
      "cell_type": "code",
      "metadata": {
        "id": "xnrgf2ktjm7H",
        "outputId": "a0c81336-e019-4730-cf00-5848e341dade",
        "colab": {
          "base_uri": "https://localhost:8080/"
        }
      },
      "source": [
        "for fruit in fruits:\n",
        "  if fruit == 'apple':\n",
        "    print(f'I live this fruit {fruit}')\n",
        "    break"
      ],
      "execution_count": 28,
      "outputs": [
        {
          "output_type": "stream",
          "name": "stdout",
          "text": [
            "I live this fruit apple\n"
          ]
        }
      ]
    },
    {
      "cell_type": "code",
      "metadata": {
        "id": "ZRWiADA6j7qZ"
      },
      "source": [
        ""
      ],
      "execution_count": null,
      "outputs": []
    }
  ]
}