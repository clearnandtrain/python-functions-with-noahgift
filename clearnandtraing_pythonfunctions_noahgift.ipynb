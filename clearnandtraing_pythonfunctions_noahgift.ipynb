{
  "nbformat": 4,
  "nbformat_minor": 0,
  "metadata": {
    "colab": {
      "name": "clearnandtraing-pythonfunctions-noahgift.ipynb",
      "provenance": [],
      "authorship_tag": "ABX9TyP8GbzeQbe2z4ODFebrncxi",
      "include_colab_link": true
    },
    "kernelspec": {
      "name": "python3",
      "display_name": "Python 3"
    },
    "language_info": {
      "name": "python"
    }
  },
  "cells": [
    {
      "cell_type": "markdown",
      "metadata": {
        "id": "view-in-github",
        "colab_type": "text"
      },
      "source": [
        "<a href=\"https://colab.research.google.com/github/clearnandtrain/python-functions-with-noahgift/blob/main/clearnandtraing_pythonfunctions_noahgift.ipynb\" target=\"_parent\"><img src=\"https://colab.research.google.com/assets/colab-badge.svg\" alt=\"Open In Colab\"/></a>"
      ]
    },
    {
      "cell_type": "markdown",
      "metadata": {
        "id": "hHNYhu5DbWYU"
      },
      "source": [
        "# Lesson One: Statements"
      ]
    },
    {
      "cell_type": "markdown",
      "metadata": {
        "id": "xU7k8Xx7aswL"
      },
      "source": [
        "##Statements"
      ]
    },
    {
      "cell_type": "code",
      "metadata": {
        "id": "g7Vbu1kaaxA1",
        "outputId": "afdffbd3-da23-4203-cb9f-7f530b1a1277",
        "colab": {
          "base_uri": "https://localhost:8080/"
        }
      },
      "source": [
        "print(\"Hello World\")"
      ],
      "execution_count": 1,
      "outputs": [
        {
          "output_type": "stream",
          "name": "stdout",
          "text": [
            "Hello World\n"
          ]
        }
      ]
    },
    {
      "cell_type": "code",
      "metadata": {
        "id": "j2szEYEvblZC"
      },
      "source": [
        "var = \"Apple\""
      ],
      "execution_count": 2,
      "outputs": []
    },
    {
      "cell_type": "code",
      "metadata": {
        "id": "LoX_q6OicEf0",
        "outputId": "64a92bab-ed67-4993-e146-c7cb62a5fbf7",
        "colab": {
          "base_uri": "https://localhost:8080/"
        }
      },
      "source": [
        "print(f'This is a good fruit to eat in the winter {var}')"
      ],
      "execution_count": 3,
      "outputs": [
        {
          "output_type": "stream",
          "name": "stdout",
          "text": [
            "This is a good fruit to eat in the winter Apple\n"
          ]
        }
      ]
    },
    {
      "cell_type": "code",
      "metadata": {
        "id": "KNC41HIYcNKL"
      },
      "source": [
        "num = 100"
      ],
      "execution_count": 4,
      "outputs": []
    },
    {
      "cell_type": "code",
      "metadata": {
        "id": "IDeWDoMdcaDt",
        "outputId": "5ecd536e-2d80-4028-da3a-8ff8c7a4fd6f",
        "colab": {
          "base_uri": "https://localhost:8080/"
        }
      },
      "source": [
        "type(num)"
      ],
      "execution_count": 5,
      "outputs": [
        {
          "output_type": "execute_result",
          "data": {
            "text/plain": [
              "int"
            ]
          },
          "metadata": {},
          "execution_count": 5
        }
      ]
    },
    {
      "cell_type": "code",
      "metadata": {
        "id": "kFteai0qcfbV",
        "outputId": "2ec09b25-da22-4569-8ca9-a286bcf276a9",
        "colab": {
          "base_uri": "https://localhost:8080/"
        }
      },
      "source": [
        "print(f'The amount of money I like in my wallet is {num} dollars')"
      ],
      "execution_count": 6,
      "outputs": [
        {
          "output_type": "stream",
          "name": "stdout",
          "text": [
            "The amount of money I like in my wallet is 100 dollars\n"
          ]
        }
      ]
    },
    {
      "cell_type": "code",
      "metadata": {
        "id": "9ejcXSmSc2e9"
      },
      "source": [
        ""
      ],
      "execution_count": null,
      "outputs": []
    }
  ]
}